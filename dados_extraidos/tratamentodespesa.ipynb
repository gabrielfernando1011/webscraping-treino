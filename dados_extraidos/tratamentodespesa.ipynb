{
 "cells": [
  {
   "cell_type": "code",
   "execution_count": 15,
   "metadata": {},
   "outputs": [
    {
     "name": "stdout",
     "output_type": "stream",
     "text": [
      "\n",
      "Arquivo tratado salvo como 'despesas_tratado.xlsx'\n"
     ]
    }
   ],
   "source": [
    "import pandas as pd\n",
    "import numpy as np\n",
    "\n",
    "# Caminho do arquivo original\n",
    "caminho_do_arquivo = \"despesas_resultado.xlsx\"\n",
    "\n",
    "# Leitura do arquivo Excel\n",
    "df = pd.read_excel(caminho_do_arquivo)\n",
    "\n",
    "df[\"data_compra\"] = pd.to_datetime(df[\"data_compra\"], unit=\"ms\", errors=\"coerce\").dt.date\n",
    "\n",
    "# Limpar espaços em colunas de texto\n",
    "for col in df.select_dtypes(include=['object', 'string']).columns:\n",
    "    df[col] = df[col].astype(str).str.strip()\n",
    "\n",
    "if df[\"preco\"].mean() > 10000:\n",
    "    df[\"preco\"] = df[\"preco\"] / 100\n",
    "\n",
    "df[\"preco\"] = df[\"preco\"].round(2)\n",
    "\n",
    "df.to_excel(\"despesas_tratado.xlsx\", index=False)\n",
    "\n",
    "print(\"\\nArquivo tratado salvo como 'despesas_tratado.xlsx'\")\n",
    "\n",
    "\n"
   ]
  }
 ],
 "metadata": {
  "kernelspec": {
   "display_name": "Python 3",
   "language": "python",
   "name": "python3"
  },
  "language_info": {
   "codemirror_mode": {
    "name": "ipython",
    "version": 3
   },
   "file_extension": ".py",
   "mimetype": "text/x-python",
   "name": "python",
   "nbconvert_exporter": "python",
   "pygments_lexer": "ipython3",
   "version": "3.12.1"
  }
 },
 "nbformat": 4,
 "nbformat_minor": 2
}
